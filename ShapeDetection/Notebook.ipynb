{
 "cells": [
  {
   "cell_type": "code",
   "execution_count": 1,
   "metadata": {},
   "outputs": [],
   "source": [
    "import numpy as np\n",
    "import cv2\n",
    "import matplotlib.pyplot as plt"
   ]
  },
  {
   "cell_type": "code",
   "execution_count": 6,
   "metadata": {},
   "outputs": [
    {
     "data": {
      "text/plain": [
       "Text(0.5, 1.0, 'Original Image')"
      ]
     },
     "execution_count": 6,
     "metadata": {},
     "output_type": "execute_result"
    },
    {
     "data": {
      "image/png": "[encoded data removed]",
      "text/plain": [
       "<Figure size 432x288 with 1 Axes>"
      ]
     },
     "metadata": {
      "needs_background": "light"
     },
     "output_type": "display_data"
    }
   ],
   "source": [
    "image_path= 'images\\image4.jpg'\n",
    "image = cv2.imread(image_path)\n",
    "plt.imshow(image)\n",
    "plt.title(\"Original Image\")"
   ]
  },
  {
   "cell_type": "code",
   "execution_count": 7,
   "metadata": {},
   "outputs": [
    {
     "name": "stdout",
     "output_type": "stream",
     "text": [
      "Number of contours:  5\n",
      "[[[744 393]]\n",
      "\n",
      " [[744 394]]\n",
      "\n",
      " [[743 395]]\n",
      "\n",
      " ...\n",
      "\n",
      " [[745 396]]\n",
      "\n",
      " [[745 395]]\n",
      "\n",
      " [[744 394]]]\n"
     ]
    }
   ],
   "source": [
    "gray_img = cv2.cvtColor(image,cv2.COLOR_BGR2GRAY)\n",
    "_,thresh = cv2.threshold(gray_img,127,255,1)\n",
    "contours,_ = cv2.findContours(thresh,cv2.RETR_TREE,cv2.CHAIN_APPROX_NONE)\n",
    "print(\"Number of contours: \",len(contours))\n",
    "print(contours[0])"
   ]
  },
  {
   "cell_type": "code",
   "execution_count": 32,
   "metadata": {},
   "outputs": [
    {
     "name": "stdout",
     "output_type": "stream",
     "text": [
      "10\n",
      "15\n",
      "3\n",
      "4\n",
      "4\n"
     ]
    }
   ],
   "source": [
    "for contour in contours:\n",
    "    vertices = cv2.approxPolyDP(contour,0.01*cv2.arcLength(contour,True),True)\n",
    "    M = cv2.moments(contour)\n",
    "    x = int(M['m10']/M['m00'])\n",
    "    y = int(M['m01']/M['m00'])\n",
    "    \n",
    "    if len(vertices)==3:\n",
    "        text = 'Triangle'\n",
    "        cv2.drawContours(image,[contour],0,(0,255,0),-1)\n",
    "        cv2.putText(image,text,(x-50,y),cv2.FONT_HERSHEY_COMPLEX,1,(0,0,0))\n",
    "        \n",
    "    elif len(vertices)==4:\n",
    "        x,y,w,h = cv2.boundingRect(contour)\n",
    "        asRatio = float(w/h)\n",
    "        if asRatio >= 0.95 and asRatio <= 1.05:\n",
    "            text = 'Square'\n",
    "            cv2.drawContours(image,[contour],0,(0,255,0),-1)\n",
    "            cv2.putText(image,text,(x-50,y),cv2.FONT_HERSHEY_COMPLEX,1,(0,0,0))\n",
    "            \n",
    "        else:\n",
    "            text = 'Rectangle'\n",
    "            cv2.drawContours(image,[contour],0,(0,255,0),-1)\n",
    "            cv2.putText(image,text,(x-50,y),cv2.FONT_HERSHEY_COMPLEX,1,(0,0,0))\n",
    "        \n",
    "    elif len(vertices)==5:\n",
    "        text = 'Pentagon'\n",
    "        cv2.drawContours(image,[contour],0,(0,255,0),-1)\n",
    "        cv2.putText(image,text,(x-50,y),cv2.FONT_HERSHEY_COMPLEX,1,(0,0,0))\n",
    "        \n",
    "    elif len(vertices)==10 or len(vertices)==8:\n",
    "        text = 'Star'\n",
    "        cv2.drawContours(image,[contour],0,(0,255,0),-1)\n",
    "        cv2.putText(image,text,(x-50,y),cv2.FONT_HERSHEY_COMPLEX,1,(0,0,0))\n",
    "            \n",
    "    else:\n",
    "         text = \"Circle\"\n",
    "         cv2.drawContours(image,[contour],0,(0,255,0),-1)\n",
    "         cv2.putText(image,text,(x-50,y),cv2.FONT_HERSHEY_COMPLEX,1,(0,0,0))\n",
    "    print(len(vertices))"
   ]
  },
  {
   "cell_type": "code",
   "execution_count": 33,
   "metadata": {},
   "outputs": [
    {
     "data": {
      "text/plain": [
       "Text(0.5, 1.0, 'Identified Shapes')"
      ]
     },
     "execution_count": 33,
     "metadata": {},
     "output_type": "execute_result"
    },
    {
     "data": {
      "image/png": "[encoded data removed]",
      "text/plain": [
       "<Figure size 432x288 with 1 Axes>"
      ]
     },
     "metadata": {
      "needs_background": "light"
     },
     "output_type": "display_data"
    }
   ],
   "source": [
    "plt.imshow(image)\n",
    "plt.title(\"Identified Shapes\")"
   ]
  },
  {
   "cell_type": "code",
   "execution_count": 35,
   "metadata": {},
   "outputs": [],
   "source": [
    "image_path2 = 'images\\image4.jpg'\n",
    "image2 = cv2.imread(image_path2)\n",
    "gray_img2 = cv2.cvtColor(image2,cv2.COLOR_BGR2GRAY) \n",
    "blur_img = cv2.GaussianBlur(gray_img2,(5,5),0)\n",
    "_,thresh2 = cv2.threshold(blur_img,127,255,1)\n",
    "canny_img = cv2.Canny(thresh2,50,200)"
   ]
  },
  {
   "cell_type": "code",
   "execution_count": 37,
   "metadata": {},
   "outputs": [
    {
     "name": "stdout",
     "output_type": "stream",
     "text": [
      "Number of Contours:  5\n"
     ]
    }
   ],
   "source": [
    "contours,_ = cv2.findContours(canny_img.copy(),cv2.RETR_EXTERNAL,cv2.CHAIN_APPROX_NONE)\n",
    "print(\"Number of Contours: \",len(contours))"
   ]
  },
  {
   "cell_type": "code",
   "execution_count": 42,
   "metadata": {},
   "outputs": [
    {
     "name": "stdout",
     "output_type": "stream",
     "text": [
      "Sorted Areas [67200.5, 45111.0, 23822.5, 23183.5, 20873.0]\n"
     ]
    }
   ],
   "source": [
    "def area(contours):\n",
    "    areas = []\n",
    "    for contour in contours:\n",
    "        temp_area = cv2.contourArea(contour)\n",
    "        areas.append(temp_area)\n",
    "        \n",
    "    return areas\n",
    "\n",
    "sorted_contours = sorted(contours,key=cv2.contourArea,reverse=True)\n",
    "print(\"Sorted Areas\", area(sorted_contours))"
   ]
  },
  {
   "cell_type": "code",
   "execution_count": 46,
   "metadata": {},
   "outputs": [],
   "source": [
    "for i,contour in enumerate(sorted_contours):\n",
    "    cv2.drawContours(image2,[contour],-1,(0,255,0),3)\n",
    "    M = cv2.moments(contour)\n",
    "    x = int(M['m10']/M['m00'])\n",
    "    y = int(M['m01']/M['m00'])\n",
    "    cv2.putText(image2,str(i+1),(x-1,y+10),cv2.FONT_ITALIC,1,(255,255,255),1)"
   ]
  },
  {
   "cell_type": "code",
   "execution_count": 47,
   "metadata": {},
   "outputs": [
    {
     "data": {
      "text/plain": [
       "Text(0.5, 1.0, 'Sorted by Area')"
      ]
     },
     "execution_count": 47,
     "metadata": {},
     "output_type": "execute_result"
    },
    {
     "data": {
      "image/png": "[encoded data removed]",
      "text/plain": [
       "<Figure size 432x288 with 1 Axes>"
      ]
     },
     "metadata": {
      "needs_background": "light"
     },
     "output_type": "display_data"
    }
   ],
   "source": [
    "plt.imshow(image2)\n",
    "plt.title(\"Sorted by Area\")"
   ]
  }
 ],
 "metadata": {
  "kernelspec": {
   "display_name": "Python 3",
   "language": "python",
   "name": "python3"
  },
  "language_info": {
   "codemirror_mode": {
    "name": "ipython",
    "version": 3
   },
   "file_extension": ".py",
   "mimetype": "text/x-python",
   "name": "python",
   "nbconvert_exporter": "python",
   "pygments_lexer": "ipython3",
   "version": "3.7.6"
  }
 },
 "nbformat": 4,
 "nbformat_minor": 4
}
